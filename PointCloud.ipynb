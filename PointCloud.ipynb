{
  "nbformat": 4,
  "nbformat_minor": 0,
  "metadata": {
    "colab": {
      "provenance": [],
      "collapsed_sections": [
        "-NqbWs0dc1Rq",
        "h9nd7cbNeei6",
        "-3jn9Um2o88V",
        "FGpF_StuxI4p"
      ],
      "mount_file_id": "1itZy4LQpt6RoQnpIvU0M4KlHwb5UASQC",
      "authorship_tag": "ABX9TyMRqxO9mWvNeKnfvuQUMmmQ",
      "include_colab_link": true
    },
    "kernelspec": {
      "name": "python3",
      "display_name": "Python 3"
    },
    "language_info": {
      "name": "python"
    },
    "gpuClass": "standard"
  },
  "cells": [
    {
      "cell_type": "markdown",
      "metadata": {
        "id": "view-in-github",
        "colab_type": "text"
      },
      "source": [
        "<a href=\"https://colab.research.google.com/github/Gainward777/Point_Cloud_Single_Photo/blob/main/PointCloud.ipynb\" target=\"_parent\"><img src=\"https://colab.research.google.com/assets/colab-badge.svg\" alt=\"Open In Colab\"/></a>"
      ]
    },
    {
      "cell_type": "markdown",
      "source": [
        "#ImageFromDepth"
      ],
      "metadata": {
        "id": "4YKJFAPi2u8-"
      }
    },
    {
      "cell_type": "code",
      "source": [
        "#@title Installs and imports\n",
        "!pip install open3d\n",
        "!pip install timm\n",
        "!pip install pyheif  "
      ],
      "metadata": {
        "id": "3eHU-L4N3ztc",
        "cellView": "form"
      },
      "execution_count": null,
      "outputs": []
    },
    {
      "cell_type": "markdown",
      "source": [
        "##Load libs"
      ],
      "metadata": {
        "id": "-NqbWs0dc1Rq"
      }
    },
    {
      "cell_type": "code",
      "source": [
        "import open3d as o3d\n",
        "import numpy as np\n",
        "import matplotlib.pyplot as plt\n",
        "import os\n",
        "import sys\n",
        "import cv2\n",
        "import os\n",
        "\n",
        "import torch\n",
        "import matplotlib.image as pltim\n",
        "from PIL import Image\n",
        "import pyheif \n",
        "import shutil\n",
        "from google.colab import files\n",
        "import math"
      ],
      "metadata": {
        "id": "UoYtIs1Ty_6m"
      },
      "execution_count": 1,
      "outputs": []
    },
    {
      "cell_type": "markdown",
      "source": [
        "##Get Depth (MiDaS)"
      ],
      "metadata": {
        "id": "_0VAKEWhihyT"
      }
    },
    {
      "cell_type": "code",
      "source": [
        "#@title Load Model\n",
        "model_type = \"DPT_Large\"  # @param [\"DPT_Large\", \"DPT_Hybrid\", \"MiDaS_small\"] \n",
        "                             # MiDaS v3 - Large     (highest accuracy, slowest inference speed)\n",
        "#model_type = \"DPT_Hybrid\"   # MiDaS v3 - Hybrid    (medium accuracy, medium inference speed)\n",
        "#model_type = \"MiDaS_small\"  # MiDaS v2.1 - Small   (lowest accuracy, highest inference speed)\n",
        "\n",
        "midas = torch.hub.load(\"intel-isl/MiDaS\", model_type)"
      ],
      "metadata": {
        "id": "YPeemdT0i3cx",
        "cellView": "form"
      },
      "execution_count": null,
      "outputs": []
    },
    {
      "cell_type": "code",
      "source": [
        "#@title HEIC convert function\n",
        "def convert_heic(path):\n",
        "    new_path=f\"{path.split('.')[0]}.jpg\"\n",
        "    heif_file = pyheif.read(path)\n",
        "    img=Image.frombytes(heif_file.mode, heif_file.size, heif_file.data, \"raw\", heif_file.mode, heif_file.stride)\n",
        "    img.save(new_path)\n",
        "    return new_path"
      ],
      "metadata": {
        "cellView": "form",
        "id": "1HD1eA_IWhua"
      },
      "execution_count": 3,
      "outputs": []
    },
    {
      "cell_type": "code",
      "source": [
        "#@title Load files if it's on desctop\n",
        "from google.colab import files\n",
        "\n",
        "dwld_directory = '/content/origins' #@param {type:\"string\"}\n",
        "if dwld_directory.split('/')[-1] != '':\n",
        "    dwld_directory=dwld_directory+'/'\n",
        "if not os.path.exists(dwld_directory):\n",
        "   os.mkdir(dwld_directory)\n",
        "%cd {dwld_directory}\n",
        "\n",
        "uploaded = files.upload()\n",
        "\n",
        "up_pathes=[]\n",
        "up_list=list(uploaded.keys())\n",
        "for name in up_list:\n",
        "    ext=name.split('.')[-1]\n",
        "    if ext=='HEIC' or ext == 'heic':\n",
        "        path=convert_heic(f\"{dwld_directory}{name}\")\n",
        "        up_pathes.append(path)\n",
        "    else:\n",
        "        up_pathes.append(f\"{dwld_directory}{name}\")"
      ],
      "metadata": {
        "id": "iTL5S-RKjTXA",
        "cellView": "form"
      },
      "execution_count": null,
      "outputs": []
    },
    {
      "cell_type": "code",
      "source": [
        "#@title Add directory if files on drive\n",
        "directory = \"/content/drive/images\" #@param {type:\"string\"}\n",
        "file_list=os.listdir(directory)\n",
        "up_pathes=[]\n",
        "for f in file_list:\n",
        "    ext=name.split('.')[-1]\n",
        "    if ext=='HEIC' or ext == 'heic':\n",
        "        path=convert_heic(f\"{directory}/{f}\")\n",
        "        up_pathes.append(path)\n",
        "    else:\n",
        "        up_pathes.append(f\"{directory}/{f}\")"
      ],
      "metadata": {
        "cellView": "form",
        "id": "OHpfxLrxVzZB"
      },
      "execution_count": null,
      "outputs": []
    },
    {
      "cell_type": "markdown",
      "source": [
        "###Resize if it's necessary"
      ],
      "metadata": {
        "id": "h9nd7cbNeei6"
      }
    },
    {
      "cell_type": "code",
      "source": [
        "def normalize_size(img, height, width, round_h_coef=None, round_w_coef=None):    \n",
        "    true_h_coef=img.shape[0]/height\n",
        "    if round_h_coef==None:\n",
        "        round_h_coef=rounding_down(true_h_coef) #int((img.shape[0]/480)*10)/10\n",
        "    true_w_coef=img.shape[1]/width\n",
        "    if round_w_coef == None:\n",
        "        round_w_coef=rounding_down(true_w_coef)\n",
        "    start_h=int((true_h_coef*height-round_h_coef*height)/4)\n",
        "    end_h=int(round_h_coef*height+start_h)\n",
        "    start_w=int((true_w_coef*width-round_w_coef*width)/4)\n",
        "    end_w=int(round_h_coef*width+start_w)\n",
        "    return img[start_h:end_h,start_w:end_w], round_h_coef, round_w_coef\n",
        "\n",
        "def rounding_down(value_for_round: float, round_size: int=10):\n",
        "    return int(value_for_round*round_size)/round_size\n",
        "\n",
        "def resize_image(im_path, height, width):\n",
        "    img = cv2.imread(im_path, cv2.IMREAD_UNCHANGED)\n",
        "    print('Image :', im_path)\n",
        "    print('Original Dimensions : ',img.shape)\n",
        "    img, round_h_coef, round_w_coef=normalize_size(img, height, width)\n",
        "    if round_h_coef>round_w_coef:\n",
        "        round_h_coef=round_w_coef\n",
        "    img, round_h_coef, round_w_coef=normalize_size(img, height, width, round_h_coef, round_h_coef)\n",
        "\n",
        "    img = cv2.resize(img, (width,height))\n",
        "    print('New Dimensions : ', img.shape)\n",
        "    os.remove(im_path)\n",
        "    cv2.imwrite(im_path, img) "
      ],
      "metadata": {
        "id": "VnsElfq4reOx"
      },
      "execution_count": 10,
      "outputs": []
    },
    {
      "cell_type": "code",
      "source": [
        "for path in up_pathes:\n",
        "    resize_image(path, 480, 640)"
      ],
      "metadata": {
        "colab": {
          "base_uri": "https://localhost:8080/"
        },
        "id": "oICOxDEoag5A",
        "outputId": "6f2dfa29-b977-4ec0-884e-dace80f94fe4"
      },
      "execution_count": 11,
      "outputs": [
        {
          "output_type": "stream",
          "name": "stdout",
          "text": [
            "Image : /content/origins/20 (1).jpg\n",
            "Original Dimensions :  (2736, 3648, 3)\n",
            "New Dimensions :  (480, 640, 3)\n",
            "Image : /content/origins/37 (1) (1).jpg\n",
            "Original Dimensions :  (1704, 2272, 3)\n",
            "New Dimensions :  (480, 640, 3)\n",
            "Image : /content/origins/85 (1).jpg\n",
            "Original Dimensions :  (2736, 3648, 3)\n",
            "New Dimensions :  (480, 640, 3)\n",
            "Image : /content/origins/High_quality_nude_1.0_adult_1.5_maid_1.5_beautiful_big_tits_skinny_photo_full_face_bare_1894038054 (1).jpg\n",
            "Original Dimensions :  (1280, 1024, 3)\n",
            "New Dimensions :  (480, 640, 3)\n",
            "Image : /content/origins/IMG_6376.jpg\n",
            "Original Dimensions :  (480, 640, 3)\n",
            "New Dimensions :  (480, 640, 3)\n",
            "Image : /content/origins/IMG_6601.jpg\n",
            "Original Dimensions :  (480, 640, 3)\n",
            "New Dimensions :  (480, 640, 3)\n",
            "Image : /content/origins/IMG_6750.jpg\n",
            "Original Dimensions :  (480, 640, 3)\n",
            "New Dimensions :  (480, 640, 3)\n",
            "Image : /content/origins/IMG_7185.jpg\n",
            "Original Dimensions :  (480, 640, 3)\n",
            "New Dimensions :  (480, 640, 3)\n",
            "Image : /content/origins/IMG_7750.jpg\n",
            "Original Dimensions :  (480, 640, 3)\n",
            "New Dimensions :  (480, 640, 3)\n",
            "Image : /content/origins/IMG_7979.jpg\n",
            "Original Dimensions :  (480, 640, 3)\n",
            "New Dimensions :  (480, 640, 3)\n",
            "Image : /content/origins/Деканова Анна  4месяца 001.jpg\n",
            "Original Dimensions :  (3856, 3856, 3)\n",
            "New Dimensions :  (480, 640, 3)\n"
          ]
        }
      ]
    },
    {
      "cell_type": "markdown",
      "source": [
        "###Load transforms and apply it to images"
      ],
      "metadata": {
        "id": "-3jn9Um2o88V"
      }
    },
    {
      "cell_type": "code",
      "source": [
        "midas_transforms = torch.hub.load(\"intel-isl/MiDaS\", \"transforms\")\n",
        "\n",
        "if model_type == \"DPT_Large\" or model_type == \"DPT_Hybrid\":\n",
        "    transform = midas_transforms.dpt_transform\n",
        "else:\n",
        "    transform = midas_transforms.small_transform"
      ],
      "metadata": {
        "colab": {
          "base_uri": "https://localhost:8080/"
        },
        "id": "JCmGoVZDjBeN",
        "outputId": "d6ecafbe-e549-4123-8a3d-46a66e1c0497"
      },
      "execution_count": 12,
      "outputs": [
        {
          "output_type": "stream",
          "name": "stderr",
          "text": [
            "Using cache found in /root/.cache/torch/hub/intel-isl_MiDaS_master\n"
          ]
        }
      ]
    },
    {
      "cell_type": "code",
      "source": [
        "transformed_imgs=[]\n",
        "for path in up_pathes:\n",
        "    img = cv2.imread(path)\n",
        "    img=cv2.cvtColor(img, cv2.COLOR_BGR2RGB)\n",
        "    transformed_imgs.append(transform(img))\n",
        "\n",
        "#input_batch = transform(img).to(device)"
      ],
      "metadata": {
        "id": "v4E_tZhHn_T3"
      },
      "execution_count": 13,
      "outputs": []
    },
    {
      "cell_type": "markdown",
      "source": [
        "###Make depths"
      ],
      "metadata": {
        "id": "FGpF_StuxI4p"
      }
    },
    {
      "cell_type": "code",
      "source": [
        "device = torch.device(\"cuda\") if torch.cuda.is_available() else torch.device(\"cpu\")\n",
        "midas.to(device)\n",
        "midas.eval()\n",
        "\n",
        "outputs=[]\n",
        "for input in transformed_imgs:\n",
        "    with torch.no_grad():\n",
        "        prediction = midas(input.to(device))\n",
        "\n",
        "        prediction = torch.nn.functional.interpolate(\n",
        "            prediction.unsqueeze(1),\n",
        "            size=img.shape[:2],\n",
        "            mode=\"bicubic\",\n",
        "            align_corners=False,\n",
        "        ).squeeze()\n",
        "\n",
        "    outputs.append(prediction.cpu().numpy())"
      ],
      "metadata": {
        "id": "cvySJEBZoUBW"
      },
      "execution_count": 14,
      "outputs": []
    },
    {
      "cell_type": "code",
      "source": [
        "#@title Save results\n",
        "depth_pathes=[]\n",
        "\n",
        "depth_directory = '/content/depths' #@param {type:\"string\"}\n",
        "if depth_directory.split('/')!='':\n",
        "    depth_directory=depth_directory+'/'\n",
        "if not os.path.exists(depth_directory):\n",
        "   os.mkdir(depth_directory)\n",
        "%cd {depth_directory}\n",
        "\n",
        "for i in range(len(up_list)):\n",
        "    path=f\"{depth_directory}/{up_list[i].split('.')[0]}_depth.jpg\"\n",
        "    depth_pathes.append(path)\n",
        "    pltim.imsave(path, outputs[i])"
      ],
      "metadata": {
        "colab": {
          "base_uri": "https://localhost:8080/"
        },
        "id": "GjeXnXZLur8m",
        "outputId": "b1316cef-42ce-4658-de87-115535b5c9a3"
      },
      "execution_count": 15,
      "outputs": [
        {
          "output_type": "stream",
          "name": "stdout",
          "text": [
            "/content/depths\n"
          ]
        }
      ]
    },
    {
      "cell_type": "markdown",
      "source": [
        "##Reconstruction"
      ],
      "metadata": {
        "id": "Wjt1n728iePr"
      }
    },
    {
      "cell_type": "code",
      "source": [
        "#@title Load files (if they were not loaded in the previous step)\n",
        "from google.colab import files\n",
        "\n",
        "dwld_directory = '/content/origins' #@param {type:\"string\"}\n",
        "if dwld_directory.split('/')[-1] != '':\n",
        "    dwld_directory=dwld_directory+'/'\n",
        "if not os.path.exists(dwld_directory):\n",
        "   os.mkdir(dwld_directory)\n",
        "%cd {dwld_directory}\n",
        "\n",
        "uploaded = files.upload()\n",
        "\n",
        "up_pathes=[]\n",
        "up_list=list(uploaded.keys())\n",
        "for name in up_list:\n",
        "    ext=name.split('.')[-1]\n",
        "    if ext=='HEIC' or ext == 'heic':\n",
        "        path=convert_heic(f\"{dwld_directory}{name}\")\n",
        "        up_pathes.append(path)\n",
        "    else:\n",
        "        up_pathes.append(f\"{dwld_directory}{name}\")\n",
        "    #up_pathes.append(f\"/content/origins/{name}\")\n",
        "\n",
        "depth_directory = '/content/depths' #@param {type:\"string\"}\n",
        "if depth_directory.split('/')!='':\n",
        "    depth_directory=depth_directory+'/'\n",
        "if not os.path.exists(depth_directory):\n",
        "   os.mkdir(depth_directory)\n",
        "%cd {depth_directory}\n",
        "\n",
        "depth_uploaded = files.upload()\n",
        "\n",
        "depth_pathes=[]\n",
        "depth_list=list(depth_uploaded.keys())\n",
        "for name in depth_list:\n",
        "    depth_pathes.append(f\"{depth_directory}{name}\")"
      ],
      "metadata": {
        "id": "wYwsVW4OyVbi",
        "cellView": "form"
      },
      "execution_count": null,
      "outputs": []
    },
    {
      "cell_type": "code",
      "source": [
        "#@title Load only depths (if they were not loaded in the previous step)\n",
        "depth_directory = '/content/depths' #@param {type:\"string\"}\n",
        "if depth_directory.split('/')!='':\n",
        "    depth_directory=depth_directory+'/'\n",
        "if not os.path.exists(depth_directory):\n",
        "   os.mkdir(depth_directory)\n",
        "%cd {depth_directory}\n",
        "\n",
        "depth_uploaded = files.upload()\n",
        "\n",
        "depth_pathes=[]\n",
        "depth_list=list(depth_uploaded.keys())\n",
        "for name in depth_list:\n",
        "    depth_pathes.append(f\"{depth_directory}{name}\")"
      ],
      "metadata": {
        "id": "HxmwaGBXQYaC",
        "cellView": "form"
      },
      "execution_count": null,
      "outputs": []
    },
    {
      "cell_type": "code",
      "source": [
        "#@title Get pointclouds\n",
        "ply_directory = '/content/3d' #@param {type:\"string\"}\n",
        "pcd_dict={}\n",
        "if not os.path.exists(ply_directory):\n",
        "   os.mkdir(ply_directory)\n",
        "#all files need to be .jpg\n",
        "for i in range(len(up_pathes)):\n",
        "    #open files\n",
        "    color_raw = o3d.io.read_image(up_pathes[i])\n",
        "    depth_raw = o3d.io.read_image(depth_pathes[i])\n",
        "    #create geometry\n",
        "    rgbd_image = o3d.geometry.RGBDImage.create_from_color_and_depth(color_raw, depth_raw)\n",
        "    #get camera\n",
        "    camera_intrinsic = o3d.camera.PinholeCameraIntrinsic(o3d.camera.PinholeCameraIntrinsicParameters.PrimeSenseDefault)\n",
        "    pcd = o3d.geometry.PointCloud.create_from_rgbd_image(rgbd_image, camera_intrinsic)\n",
        "    o3d.io.write_point_cloud(f\"{ply_directory}/{up_pathes[i].split('/')[-1].split('.')[0]}.ply\", pcd)"
      ],
      "metadata": {
        "id": "fRd1yU4XzkSH",
        "cellView": "form"
      },
      "execution_count": 76,
      "outputs": []
    },
    {
      "cell_type": "code",
      "source": [
        "#@title Download\n",
        "\n",
        "def download_folder(folder_path):    \n",
        "    path=shutil.make_archive(folder_path.split('/')[-1], 'zip', folder_path)\n",
        "    files.download(path)\n",
        "\n",
        "%cd /content\n",
        "folders=[]\n",
        "ply_dir = False #@param {type:\"boolean\"} \n",
        "depth_dir=False #@param {type:\"boolean\"} \n",
        "dwld_dir=True #@param {type:\"boolean\"} \n",
        "if ply_dir: folders.append(ply_directory)\n",
        "if depth_dir: folders.append(depth_directory[:-1])\n",
        "if dwld_dir: folders.append(dwld_directory[:-1])\n",
        "\n",
        "for path in folders:\n",
        "    download_folder(path)"
      ],
      "metadata": {
        "colab": {
          "base_uri": "https://localhost:8080/",
          "height": 35
        },
        "id": "tt5_yCNkbnaR",
        "outputId": "e8e57ffb-2cd8-4c4f-bb04-375c6b683650",
        "cellView": "form"
      },
      "execution_count": 7,
      "outputs": [
        {
          "output_type": "stream",
          "name": "stdout",
          "text": [
            "/content\n"
          ]
        },
        {
          "output_type": "display_data",
          "data": {
            "text/plain": [
              "<IPython.core.display.Javascript object>"
            ],
            "application/javascript": [
              "\n",
              "    async function download(id, filename, size) {\n",
              "      if (!google.colab.kernel.accessAllowed) {\n",
              "        return;\n",
              "      }\n",
              "      const div = document.createElement('div');\n",
              "      const label = document.createElement('label');\n",
              "      label.textContent = `Downloading \"${filename}\": `;\n",
              "      div.appendChild(label);\n",
              "      const progress = document.createElement('progress');\n",
              "      progress.max = size;\n",
              "      div.appendChild(progress);\n",
              "      document.body.appendChild(div);\n",
              "\n",
              "      const buffers = [];\n",
              "      let downloaded = 0;\n",
              "\n",
              "      const channel = await google.colab.kernel.comms.open(id);\n",
              "      // Send a message to notify the kernel that we're ready.\n",
              "      channel.send({})\n",
              "\n",
              "      for await (const message of channel.messages) {\n",
              "        // Send a message to notify the kernel that we're ready.\n",
              "        channel.send({})\n",
              "        if (message.buffers) {\n",
              "          for (const buffer of message.buffers) {\n",
              "            buffers.push(buffer);\n",
              "            downloaded += buffer.byteLength;\n",
              "            progress.value = downloaded;\n",
              "          }\n",
              "        }\n",
              "      }\n",
              "      const blob = new Blob(buffers, {type: 'application/binary'});\n",
              "      const a = document.createElement('a');\n",
              "      a.href = window.URL.createObjectURL(blob);\n",
              "      a.download = filename;\n",
              "      div.appendChild(a);\n",
              "      a.click();\n",
              "      div.remove();\n",
              "    }\n",
              "  "
            ]
          },
          "metadata": {}
        },
        {
          "output_type": "display_data",
          "data": {
            "text/plain": [
              "<IPython.core.display.Javascript object>"
            ],
            "application/javascript": [
              "download(\"download_c253b3c8-8e23-4f9e-a147-5c0252cd5054\", \"origins.zip\", 65491826)"
            ]
          },
          "metadata": {}
        }
      ]
    }
  ]
}